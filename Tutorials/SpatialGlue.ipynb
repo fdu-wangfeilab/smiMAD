{
 "cells": [
  {
   "cell_type": "code",
   "execution_count": 1,
   "id": "37484a3d-2b9a-4f15-9f3e-267035a6bd9b",
   "metadata": {},
   "outputs": [],
   "source": [
    "import sys\n",
    "sys.path.append(\"..\")\n",
    "\n",
    "from utils import *\n",
    "from trainer import *\n",
    "import scanpy as sc\n",
    "import torch\n",
    "import torch.nn as nn\n",
    "import torch.nn.functional as F\n",
    "from sklearn.metrics import adjusted_rand_score\n",
    "import matplotlib.pyplot as plt\n",
    "from tqdm import tqdm\n",
    "import argparse\n",
    "import pandas as pd\n",
    "import scipy.sparse as sp\n",
    "seed=2024\n",
    "fix_seed(seed)"
   ]
  },
  {
   "cell_type": "code",
   "execution_count": 2,
   "id": "2dab661a-f283-4c9b-b47e-a6d677a0b0ff",
   "metadata": {},
   "outputs": [],
   "source": [
    "adata1_path='/mnt/sdb/tyh/Data_SpatialGlue/Dataset14_Simulation2/adata_RNA.h5ad'\n",
    "adata2_path='/mnt/sdb/tyh/Data_SpatialGlue/Dataset14_Simulation2/adata_ADT.h5ad'"
   ]
  },
  {
   "cell_type": "code",
   "execution_count": 3,
   "id": "8ab589a4-0df9-459a-bdf0-dc0b532633dc",
   "metadata": {},
   "outputs": [
    {
     "name": "stderr",
     "output_type": "stream",
     "text": [
      "../utils.py:37: ImplicitModificationWarning: Setting element `.obsm['adj_spatial']` of view, initializing view as actual.\n",
      "  adata_omics1.obsm['adj_spatial'] = spatial_adj\n"
     ]
    }
   ],
   "source": [
    "adata_omics1,adata_omics2=pre_process(adata1_path,adata2_path,data_type='Simulation',\n",
    "                                      spatial_neighbors=4,\n",
    "                                      omics1_neighbors=10,\n",
    "                                      omics2_neighbors=10,\n",
    "                                      radius=0.2\n",
    "                                     )"
   ]
  },
  {
   "cell_type": "code",
   "execution_count": 4,
   "id": "d38b879d-93a7-453b-9de7-ebdb5c0c7741",
   "metadata": {},
   "outputs": [
    {
     "name": "stderr",
     "output_type": "stream",
     "text": [
      "Training Progress, loss: 1.3198,rec1: 1.0788,rec2: 0.1182, mmd1: 0.0001,mmd2: 0.0000, sp: 0.1225, dec: 0.0003: 100%|█| 5000/5000 [01:07<00:00, 74\n",
      "R[write to console]:                    __           __ \n",
      "   ____ ___  _____/ /_  _______/ /_\n",
      "  / __ `__ \\/ ___/ / / / / ___/ __/\n",
      " / / / / / / /__/ / /_/ (__  ) /_  \n",
      "/_/ /_/ /_/\\___/_/\\__,_/____/\\__/   version 6.1.1\n",
      "Type 'citation(\"mclust\")' for citing this R package in publications.\n",
      "\n"
     ]
    },
    {
     "name": "stdout",
     "output_type": "stream",
     "text": [
      "fitting ...\n",
      "  |======================================================================| 100%\n"
     ]
    }
   ],
   "source": [
    "train(\n",
    "    adata_omics1, adata_omics2,\n",
    "    save_path='./1.h5ad',\n",
    "    n_cluster=5,\n",
    "    lr=0.001,\n",
    "    weight_decay=0.1,\n",
    "    Epoch=5000,\n",
    "    device='cuda:1'\n",
    ")"
   ]
  },
  {
   "cell_type": "code",
   "execution_count": 5,
   "id": "d67d0f41-ce5b-404c-aca8-a91752a955d6",
   "metadata": {},
   "outputs": [],
   "source": [
    "data=sc.read_h5ad('./1.h5ad')"
   ]
  },
  {
   "cell_type": "code",
   "execution_count": 6,
   "id": "f2069ead-9674-4eae-be43-f31e933c7e3a",
   "metadata": {},
   "outputs": [],
   "source": [
    "tmp_label=data.obsm['spfac']\n",
    "labels=[]\n",
    "for i in tmp_label:\n",
    "    if np.sum(i)==0:\n",
    "        labels.append(4)\n",
    "    else:\n",
    "        labels.append(np.argwhere(i==1)[0][0])\n",
    "        \n",
    "labels=np.array(labels)"
   ]
  },
  {
   "cell_type": "code",
   "execution_count": 7,
   "id": "9b44c70e-31e9-4560-960c-333ce69d1c61",
   "metadata": {},
   "outputs": [
    {
     "name": "stdout",
     "output_type": "stream",
     "text": [
      "1.0\n"
     ]
    }
   ],
   "source": [
    "print(adjusted_rand_score(labels, data.obs['mclust']))"
   ]
  },
  {
   "cell_type": "code",
   "execution_count": null,
   "id": "0e26cb8c-86ef-4f56-9310-7ad84a0f4422",
   "metadata": {},
   "outputs": [],
   "source": []
  }
 ],
 "metadata": {
  "kernelspec": {
   "display_name": "old_sx",
   "language": "python",
   "name": "old_sx"
  },
  "language_info": {
   "codemirror_mode": {
    "name": "ipython",
    "version": 3
   },
   "file_extension": ".py",
   "mimetype": "text/x-python",
   "name": "python",
   "nbconvert_exporter": "python",
   "pygments_lexer": "ipython3",
   "version": "3.9.0"
  }
 },
 "nbformat": 4,
 "nbformat_minor": 5
}
