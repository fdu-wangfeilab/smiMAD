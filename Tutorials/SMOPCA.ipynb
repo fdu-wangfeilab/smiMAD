{
 "cells": [
  {
   "cell_type": "code",
   "execution_count": 1,
   "id": "d1728dbf-5ff5-4320-8362-fd81d8835a97",
   "metadata": {},
   "outputs": [],
   "source": [
    "import sys\n",
    "sys.path.append(\"..\")\n",
    "\n",
    "from utils import *\n",
    "from trainer import *\n",
    "import scanpy as sc\n",
    "import torch\n",
    "import torch.nn as nn\n",
    "import torch.nn.functional as F\n",
    "from sklearn.metrics import adjusted_rand_score\n",
    "import matplotlib.pyplot as plt\n",
    "from tqdm import tqdm\n",
    "import argparse\n",
    "import pandas as pd\n",
    "import scipy.sparse as sp\n",
    "seed=2024\n",
    "fix_seed(seed)\n",
    "\n",
    "import h5py\n",
    "import anndata"
   ]
  },
  {
   "cell_type": "code",
   "execution_count": 2,
   "id": "6592c457-24cc-4ba4-a7f7-ec5e93bb743e",
   "metadata": {},
   "outputs": [],
   "source": [
    "data_file = h5py.File(\"/mnt/sdc/tyh/spatial/SMOPCA_data/Simulation/CITEseq/SLN111D1_rep0.h5\")"
   ]
  },
  {
   "cell_type": "code",
   "execution_count": 3,
   "id": "a8126a98-f249-4290-95e7-3d1d75582431",
   "metadata": {},
   "outputs": [],
   "source": [
    "X1 = np.array(data_file['X1'])\n",
    "X2 = np.array(data_file['X2'])\n",
    "pos = np.array(data_file['pos'])\n",
    "y = np.array(data_file['Y'])"
   ]
  },
  {
   "cell_type": "code",
   "execution_count": 4,
   "id": "b38195be-d4ee-4f9a-8907-8a074a8423ff",
   "metadata": {},
   "outputs": [],
   "source": [
    "adata_omics1 = anndata.AnnData(X1)\n",
    "adata_omics2 = anndata.AnnData(X2)\n",
    "adata_omics1.obsm['spatial'] = pos\n",
    "adata_omics2.obsm['spatial'] = pos"
   ]
  },
  {
   "cell_type": "code",
   "execution_count": 5,
   "id": "0cf25b6b-8989-465c-8fbd-e9f7e090c0af",
   "metadata": {},
   "outputs": [],
   "source": [
    "adata_omics1.write_h5ad('./RNA.h5ad')\n",
    "adata_omics2.write_h5ad('./ADT.h5ad')"
   ]
  },
  {
   "cell_type": "code",
   "execution_count": 6,
   "id": "4f40ec9e-3a36-4aa4-8b93-4b44b2e5ef0e",
   "metadata": {},
   "outputs": [],
   "source": [
    "adata1_path='./RNA.h5ad'\n",
    "adata2_path='./ADT.h5ad'"
   ]
  },
  {
   "cell_type": "code",
   "execution_count": 7,
   "id": "6ffb8415-1a07-4a66-9b44-899c47c0363c",
   "metadata": {},
   "outputs": [
    {
     "name": "stderr",
     "output_type": "stream",
     "text": [
      "../utils.py:37: ImplicitModificationWarning: Setting element `.obsm['adj_spatial']` of view, initializing view as actual.\n",
      "  adata_omics1.obsm['adj_spatial'] = spatial_adj\n"
     ]
    }
   ],
   "source": [
    "adata_omics1,adata_omics2=pre_process(adata1_path,adata2_path,data_type='Simulation',\n",
    "                                      spatial_neighbors=20,\n",
    "                                      omics1_neighbors=10,\n",
    "                                      omics2_neighbors=10,\n",
    "                                      radius=0.03\n",
    "                                     )"
   ]
  },
  {
   "cell_type": "code",
   "execution_count": 8,
   "id": "adbaa466-d5fb-41f8-abc9-29673a93c215",
   "metadata": {},
   "outputs": [
    {
     "name": "stderr",
     "output_type": "stream",
     "text": [
      "Training Progress, loss: 0.7584,rec1: 0.3469,rec2: 0.2547, mmd1: 0.0002,mmd2: 0.0001, sp: 0.1557, dec: 0.0008: 100%|█| 5000/5000 [13:54<00:00,  5\n",
      "R[write to console]:                    __           __ \n",
      "   ____ ___  _____/ /_  _______/ /_\n",
      "  / __ `__ \\/ ___/ / / / / ___/ __/\n",
      " / / / / / / /__/ / /_/ (__  ) /_  \n",
      "/_/ /_/ /_/\\___/_/\\__,_/____/\\__/   version 6.1.1\n",
      "Type 'citation(\"mclust\")' for citing this R package in publications.\n",
      "\n"
     ]
    },
    {
     "name": "stdout",
     "output_type": "stream",
     "text": [
      "fitting ...\n",
      "  |======================================================================| 100%\n"
     ]
    }
   ],
   "source": [
    "train(\n",
    "    adata_omics1, adata_omics2,\n",
    "    save_path='./1.h5ad',\n",
    "    n_cluster=28,\n",
    "    lr=0.001,\n",
    "    weight_decay=0.1,\n",
    "    Epoch=5000,\n",
    "    device='cuda:1'\n",
    ")"
   ]
  },
  {
   "cell_type": "code",
   "execution_count": 9,
   "id": "1c2213b5-9adb-4b75-a45e-9a19bca260fa",
   "metadata": {},
   "outputs": [],
   "source": [
    "data=sc.read_h5ad('./1.h5ad')"
   ]
  },
  {
   "cell_type": "code",
   "execution_count": 10,
   "id": "92b75946-ace4-4628-9ba2-7fbcb9aa1ed7",
   "metadata": {},
   "outputs": [
    {
     "name": "stdout",
     "output_type": "stream",
     "text": [
      "0.7597251596194343\n"
     ]
    }
   ],
   "source": [
    "print(adjusted_rand_score(y, data.obs['mclust']))"
   ]
  },
  {
   "cell_type": "code",
   "execution_count": null,
   "id": "058c0ab6-d15e-4cb6-b09a-6b005629549a",
   "metadata": {},
   "outputs": [],
   "source": []
  }
 ],
 "metadata": {
  "kernelspec": {
   "display_name": "old_sx",
   "language": "python",
   "name": "old_sx"
  },
  "language_info": {
   "codemirror_mode": {
    "name": "ipython",
    "version": 3
   },
   "file_extension": ".py",
   "mimetype": "text/x-python",
   "name": "python",
   "nbconvert_exporter": "python",
   "pygments_lexer": "ipython3",
   "version": "3.9.0"
  }
 },
 "nbformat": 4,
 "nbformat_minor": 5
}
