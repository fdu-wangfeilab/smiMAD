{
 "cells": [
  {
   "cell_type": "code",
   "execution_count": 1,
   "id": "12fcbf0a-e6f5-4404-98b8-bf40a63bdb2c",
   "metadata": {},
   "outputs": [],
   "source": [
    "import sys\n",
    "sys.path.append(\"..\")\n",
    "\n",
    "from utils import *\n",
    "from trainer import *\n",
    "import scanpy as sc\n",
    "import torch\n",
    "import torch.nn as nn\n",
    "import torch.nn.functional as F\n",
    "from sklearn.metrics import adjusted_rand_score\n",
    "import matplotlib.pyplot as plt\n",
    "from tqdm import tqdm\n",
    "import argparse\n",
    "import pandas as pd\n",
    "import scipy.sparse as sp\n",
    "seed=2024\n",
    "fix_seed(seed)"
   ]
  },
  {
   "cell_type": "code",
   "execution_count": 2,
   "id": "3bc71bc3-c6df-4c19-9590-1e82a53d781f",
   "metadata": {},
   "outputs": [],
   "source": [
    "adata1_path='/mnt/sdb/tyh/spa_mutil/data/simulation2/bin/80_10_3000_150_0.7_0.3_0.6_3_3.0_0.3/adata_RNA.h5ad'\n",
    "adata2_path='/mnt/sdb/tyh/spa_mutil/data/simulation2/bin/80_10_3000_150_0.7_0.3_0.6_3_3.0_0.3/adata_ADT.h5ad'"
   ]
  },
  {
   "cell_type": "code",
   "execution_count": 3,
   "id": "581106ec-3551-456f-ada3-bfcfc370b6a2",
   "metadata": {},
   "outputs": [
    {
     "name": "stderr",
     "output_type": "stream",
     "text": [
      "/home/taoyuhao/anaconda3/envs/old_sx/lib/python3.9/site-packages/scanpy/preprocessing/_highly_variable_genes.py:61: UserWarning: `flavor='seurat_v3'` expects raw count data, but non-integers were found.\n",
      "  warnings.warn(\n",
      "../utils.py:37: ImplicitModificationWarning: Setting element `.obsm['adj_spatial']` of view, initializing view as actual.\n",
      "  adata_omics1.obsm['adj_spatial'] = spatial_adj\n"
     ]
    }
   ],
   "source": [
    "adata_omics1,adata_omics2=pre_process(adata1_path,adata2_path,data_type='Simulation',\n",
    "                                      spatial_neighbors=4,\n",
    "                                      omics1_neighbors=10,\n",
    "                                      omics2_neighbors=10,\n",
    "                                      radius=0.2\n",
    "                                     )"
   ]
  },
  {
   "cell_type": "code",
   "execution_count": 4,
   "id": "01ea1455-45ae-4971-be0d-1489626de3b5",
   "metadata": {},
   "outputs": [
    {
     "name": "stderr",
     "output_type": "stream",
     "text": [
      "Training Progress, loss: 1.2316,rec1: 0.7371,rec2: 0.2894, mmd1: 0.0000,mmd2: 0.0001, sp: 0.2048, dec: 0.0001: 100%|█| 5000/5000 [08:11<00:00, 10\n",
      "R[write to console]:                    __           __ \n",
      "   ____ ___  _____/ /_  _______/ /_\n",
      "  / __ `__ \\/ ___/ / / / / ___/ __/\n",
      " / / / / / / /__/ / /_/ (__  ) /_  \n",
      "/_/ /_/ /_/\\___/_/\\__,_/____/\\__/   version 6.1.1\n",
      "Type 'citation(\"mclust\")' for citing this R package in publications.\n",
      "\n"
     ]
    },
    {
     "name": "stdout",
     "output_type": "stream",
     "text": [
      "fitting ...\n",
      "  |======================================================================| 100%\n"
     ]
    }
   ],
   "source": [
    "train(\n",
    "    adata_omics1, adata_omics2,\n",
    "    save_path='./tmp.h5ad',\n",
    "    n_cluster=10,\n",
    "    lr=0.001,\n",
    "    weight_decay=0.1,\n",
    "    Epoch=5000,\n",
    "    device='cuda:0'\n",
    ")"
   ]
  },
  {
   "cell_type": "code",
   "execution_count": null,
   "id": "b2eefdc4-d11e-4629-8db6-7ce2b2bfe103",
   "metadata": {},
   "outputs": [],
   "source": [
    "data=sc.read_h5ad('./tmp.h5ad')"
   ]
  },
  {
   "cell_type": "code",
   "execution_count": null,
   "id": "e447f8ef-fb39-432b-b7fd-4fe1e5ac0781",
   "metadata": {},
   "outputs": [],
   "source": [
    "print(adjusted_rand_score(data.obs['cell_type'], data.obs['mclust']))"
   ]
  }
 ],
 "metadata": {
  "kernelspec": {
   "display_name": "old_sx",
   "language": "python",
   "name": "old_sx"
  },
  "language_info": {
   "codemirror_mode": {
    "name": "ipython",
    "version": 3
   },
   "file_extension": ".py",
   "mimetype": "text/x-python",
   "name": "python",
   "nbconvert_exporter": "python",
   "pygments_lexer": "ipython3",
   "version": "3.9.0"
  }
 },
 "nbformat": 4,
 "nbformat_minor": 5
}
